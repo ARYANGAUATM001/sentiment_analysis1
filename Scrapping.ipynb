{
 "cells": [
  {
   "cell_type": "code",
   "execution_count": 2,
   "id": "8e18e188",
   "metadata": {},
   "outputs": [],
   "source": [
    "#WE ARE GOING TO USE BEAUTIFUL SOUP FOR SCRAPPING THE DATA FROM THE GIVEN URLs AND NLTK LIBRARY FOR CLEANING THE DATA BY \n",
    "#REMOVING THE STOP WORDS AND TOKENIZING AND FOR PERFORMING THE TEXT ANLYSIS\n",
    "#THIS NOTEBOOK IS A LITTLE MESSY AS I RAN ALMOST 500 CELLS FOR THE GIVEN TASK AND A LOT OF ERROR OCCURED DUE TO THAT BUT WE \n",
    "#WRITE THE CODE IN UNDER 100 CELLS TOO\n",
    "\n",
    "\n",
    "\n",
    "from flask import Flask, render_template, request ,jsonify\n",
    "import requests\n",
    "from urllib.request import urlopen as ureq"
   ]
  },
  {
   "cell_type": "code",
   "execution_count": 42,
   "id": "48f599ab",
   "metadata": {},
   "outputs": [],
   "source": [
    "#list variable used here is defined in below cells and this cell ran after that\n",
    "from urllib.request import Request\n",
    "from urllib.request import urlopen\n",
    "from bs4 import BeautifulSoup\n",
    "\n",
    "raw_request = Request(list[0])\n",
    "raw_request.add_header('User-Agent', 'Mozilla/5.0 (Macintosh; Intel Mac OS X 10.15; rv:78.0) Gecko/20100101 Firefox/78.0')\n",
    "raw_request.add_header('Accept', 'text/html,application/xhtml+xml,application/xml;q=0.9,image/webp,*/*;q=0.8')\n",
    "resp = urlopen(raw_request)"
   ]
  },
  {
   "cell_type": "code",
   "execution_count": 43,
   "id": "4728cbd1",
   "metadata": {},
   "outputs": [
    {
     "data": {
      "text/plain": [
       "'https://insights.blackcoffer.com/will-ai-replace-us-or-work-with-us/'"
      ]
     },
     "execution_count": 43,
     "metadata": {},
     "output_type": "execute_result"
    }
   ],
   "source": [
    "list[4]"
   ]
  },
  {
   "cell_type": "code",
   "execution_count": 44,
   "id": "90d30ecb",
   "metadata": {},
   "outputs": [
    {
     "data": {
      "text/plain": [
       "'https://insights.blackcoffer.com/what-if-the-creation-is-taking-over-the-creator/'"
      ]
     },
     "execution_count": 44,
     "metadata": {},
     "output_type": "execute_result"
    }
   ],
   "source": [
    "list[1]"
   ]
  },
  {
   "cell_type": "code",
   "execution_count": 45,
   "id": "5e845e96",
   "metadata": {},
   "outputs": [
    {
     "data": {
      "text/plain": [
       "<http.client.HTTPResponse at 0x1a9119212b0>"
      ]
     },
     "execution_count": 45,
     "metadata": {},
     "output_type": "execute_result"
    }
   ],
   "source": [
    "resp"
   ]
  },
  {
   "cell_type": "code",
   "execution_count": 46,
   "id": "fb7a9655",
   "metadata": {},
   "outputs": [
    {
     "data": {
      "text/plain": [
       "<http.client.HTTPResponse at 0x1a9119212b0>"
      ]
     },
     "execution_count": 46,
     "metadata": {},
     "output_type": "execute_result"
    }
   ],
   "source": [
    "resp"
   ]
  },
  {
   "cell_type": "code",
   "execution_count": 47,
   "id": "e18cb03b",
   "metadata": {},
   "outputs": [],
   "source": [
    "q=resp.read()"
   ]
  },
  {
   "cell_type": "code",
   "execution_count": 48,
   "id": "073f1205",
   "metadata": {},
   "outputs": [],
   "source": [
    "w=BeautifulSoup(q,\"html.parser\")"
   ]
  },
  {
   "cell_type": "code",
   "execution_count": 49,
   "id": "e7f742ab",
   "metadata": {},
   "outputs": [],
   "source": [
    "#w"
   ]
  },
  {
   "cell_type": "code",
   "execution_count": 50,
   "id": "02d5f4c2",
   "metadata": {},
   "outputs": [],
   "source": [
    "#w.find_all()"
   ]
  },
  {
   "cell_type": "code",
   "execution_count": 51,
   "id": "ccd50c54",
   "metadata": {},
   "outputs": [],
   "source": [
    "data=w.find('div',{'class':'td-pb-span8 td-main-content'})"
   ]
  },
  {
   "cell_type": "code",
   "execution_count": 52,
   "id": "e15b9f29",
   "metadata": {},
   "outputs": [],
   "source": [
    "filename=\"mydata.csv\""
   ]
  },
  {
   "cell_type": "code",
   "execution_count": 53,
   "id": "97f10bac",
   "metadata": {},
   "outputs": [],
   "source": [
    "blackcoffer=open(filename,\"w\")"
   ]
  },
  {
   "cell_type": "code",
   "execution_count": 54,
   "id": "aaccb691",
   "metadata": {},
   "outputs": [],
   "source": [
    "header=\"HERE IS THE DATA\""
   ]
  },
  {
   "cell_type": "code",
   "execution_count": 55,
   "id": "57a4a76b",
   "metadata": {},
   "outputs": [
    {
     "data": {
      "text/plain": [
       "16"
      ]
     },
     "execution_count": 55,
     "metadata": {},
     "output_type": "execute_result"
    }
   ],
   "source": [
    "blackcoffer.write(header)"
   ]
  },
  {
   "cell_type": "code",
   "execution_count": 56,
   "id": "c90d1157",
   "metadata": {},
   "outputs": [],
   "source": [
    "#data2=data.div.div"
   ]
  },
  {
   "cell_type": "code",
   "execution_count": 58,
   "id": "f9addead",
   "metadata": {},
   "outputs": [
    {
     "name": "stdout",
     "output_type": "stream",
     "text": [
      "Requirement already satisfied: pyxlsb in c:\\programdata\\anaconda3\\lib\\site-packages (1.0.10)\n",
      "Note: you may need to restart the kernel to use updated packages.\n"
     ]
    }
   ],
   "source": [
    "pip install pyxlsb"
   ]
  },
  {
   "cell_type": "code",
   "execution_count": 59,
   "id": "e36311d4",
   "metadata": {},
   "outputs": [],
   "source": [
    "#sheet_url = \"https://docs.google.com/spreadsheets/d/1D7QkDHxUSKnQhR--q0BAwKMxQlUyoJTQ/edit#gid=823090326\"\n",
    "#url_1 = sheet_url.replace('/edit#gid'=,\"/export?format=csv&gid=\")"
   ]
  },
  {
   "cell_type": "code",
   "execution_count": 60,
   "id": "3ce5f0c2",
   "metadata": {},
   "outputs": [],
   "source": [
    "from io import BytesIO\n",
    "\n",
    "import requests\n",
    "import pandas as pd\n",
    "\n",
    "r = requests.get('https://docs.google.com/spreadsheets/d/1D7QkDHxUSKnQhR--q0BAwKMxQlUyoJTQ/export?format=csv&gid=NUMBER:')\n",
    "data = r.content\n",
    "    \n",
    "    "
   ]
  },
  {
   "cell_type": "code",
   "execution_count": 61,
   "id": "acfa9fb5",
   "metadata": {},
   "outputs": [],
   "source": [
    "csv_url=\"https://docs.google.com/spreadsheets/d/1D7QkDHxUSKnQhR--q0BAwKMxQlUyoJTQ/export?format=csv&gid=NUMBER\""
   ]
  },
  {
   "cell_type": "code",
   "execution_count": 62,
   "id": "73ef73a7",
   "metadata": {},
   "outputs": [],
   "source": [
    "#https://docs.google.com/spreadsheets/d/1D7QkDHxUSKnQhR--q0BAwKMxQlUyoJTQ/edit#gid=823090326"
   ]
  },
  {
   "cell_type": "code",
   "execution_count": 63,
   "id": "46ac239c",
   "metadata": {},
   "outputs": [],
   "source": [
    "import pandas as pd\n",
    "sheet=\"1D7QkDHxUSKnQhR--q0BAwKMxQlUyoJTQ\"\n",
    "sheet_name=\"Input\""
   ]
  },
  {
   "cell_type": "code",
   "execution_count": 64,
   "id": "30b7ff8a",
   "metadata": {},
   "outputs": [],
   "source": [
    "\n",
    "\n",
    "gsheet_url = f\"https://docs.google.com/spreadsheets/d/{sheet}/gviz/tq?tqx=out:csv&sheet={sheet_name}\""
   ]
  },
  {
   "cell_type": "code",
   "execution_count": 65,
   "id": "bb86cc39",
   "metadata": {},
   "outputs": [],
   "source": [
    "df=pd.read_csv(gsheet_url)"
   ]
  },
  {
   "cell_type": "code",
   "execution_count": 66,
   "id": "a43b6339",
   "metadata": {},
   "outputs": [
    {
     "data": {
      "text/plain": [
       "'https://docs.google.com/spreadsheets/d/1D7QkDHxUSKnQhR--q0BAwKMxQlUyoJTQ/gviz/tq?tqx=out:csv&sheet=Input'"
      ]
     },
     "execution_count": 66,
     "metadata": {},
     "output_type": "execute_result"
    }
   ],
   "source": [
    "gsheet_url"
   ]
  },
  {
   "cell_type": "code",
   "execution_count": 67,
   "id": "e3392de5",
   "metadata": {},
   "outputs": [
    {
     "data": {
      "text/html": [
       "<div>\n",
       "<style scoped>\n",
       "    .dataframe tbody tr th:only-of-type {\n",
       "        vertical-align: middle;\n",
       "    }\n",
       "\n",
       "    .dataframe tbody tr th {\n",
       "        vertical-align: top;\n",
       "    }\n",
       "\n",
       "    .dataframe thead th {\n",
       "        text-align: right;\n",
       "    }\n",
       "</style>\n",
       "<table border=\"1\" class=\"dataframe\">\n",
       "  <thead>\n",
       "    <tr style=\"text-align: right;\">\n",
       "      <th></th>\n",
       "      <th>URL_ID</th>\n",
       "      <th>URL</th>\n",
       "    </tr>\n",
       "  </thead>\n",
       "  <tbody>\n",
       "    <tr>\n",
       "      <th>0</th>\n",
       "      <td>37</td>\n",
       "      <td>https://insights.blackcoffer.com/ai-in-healthc...</td>\n",
       "    </tr>\n",
       "    <tr>\n",
       "      <th>1</th>\n",
       "      <td>38</td>\n",
       "      <td>https://insights.blackcoffer.com/what-if-the-c...</td>\n",
       "    </tr>\n",
       "    <tr>\n",
       "      <th>2</th>\n",
       "      <td>39</td>\n",
       "      <td>https://insights.blackcoffer.com/what-jobs-wil...</td>\n",
       "    </tr>\n",
       "    <tr>\n",
       "      <th>3</th>\n",
       "      <td>40</td>\n",
       "      <td>https://insights.blackcoffer.com/will-machine-...</td>\n",
       "    </tr>\n",
       "    <tr>\n",
       "      <th>4</th>\n",
       "      <td>41</td>\n",
       "      <td>https://insights.blackcoffer.com/will-ai-repla...</td>\n",
       "    </tr>\n",
       "    <tr>\n",
       "      <th>5</th>\n",
       "      <td>42</td>\n",
       "      <td>https://insights.blackcoffer.com/man-and-machi...</td>\n",
       "    </tr>\n",
       "    <tr>\n",
       "      <th>6</th>\n",
       "      <td>43</td>\n",
       "      <td>https://insights.blackcoffer.com/in-future-or-...</td>\n",
       "    </tr>\n",
       "    <tr>\n",
       "      <th>7</th>\n",
       "      <td>44</td>\n",
       "      <td>https://insights.blackcoffer.com/how-neural-ne...</td>\n",
       "    </tr>\n",
       "  </tbody>\n",
       "</table>\n",
       "</div>"
      ],
      "text/plain": [
       "   URL_ID                                                URL\n",
       "0      37  https://insights.blackcoffer.com/ai-in-healthc...\n",
       "1      38  https://insights.blackcoffer.com/what-if-the-c...\n",
       "2      39  https://insights.blackcoffer.com/what-jobs-wil...\n",
       "3      40  https://insights.blackcoffer.com/will-machine-...\n",
       "4      41  https://insights.blackcoffer.com/will-ai-repla...\n",
       "5      42  https://insights.blackcoffer.com/man-and-machi...\n",
       "6      43  https://insights.blackcoffer.com/in-future-or-...\n",
       "7      44  https://insights.blackcoffer.com/how-neural-ne..."
      ]
     },
     "execution_count": 67,
     "metadata": {},
     "output_type": "execute_result"
    }
   ],
   "source": [
    "df.head(8)"
   ]
  },
  {
   "cell_type": "code",
   "execution_count": 95,
   "id": "8d4c5a33",
   "metadata": {},
   "outputs": [],
   "source": [
    "\n",
    "#df.drop(index=106,inplace=True)\n",
    "#df.drop(index=20,inplace=True)"
   ]
  },
  {
   "cell_type": "code",
   "execution_count": 69,
   "id": "b47edfc3",
   "metadata": {},
   "outputs": [
    {
     "data": {
      "text/html": [
       "<div>\n",
       "<style scoped>\n",
       "    .dataframe tbody tr th:only-of-type {\n",
       "        vertical-align: middle;\n",
       "    }\n",
       "\n",
       "    .dataframe tbody tr th {\n",
       "        vertical-align: top;\n",
       "    }\n",
       "\n",
       "    .dataframe thead th {\n",
       "        text-align: right;\n",
       "    }\n",
       "</style>\n",
       "<table border=\"1\" class=\"dataframe\">\n",
       "  <thead>\n",
       "    <tr style=\"text-align: right;\">\n",
       "      <th></th>\n",
       "      <th>URL_ID</th>\n",
       "      <th>URL</th>\n",
       "    </tr>\n",
       "  </thead>\n",
       "  <tbody>\n",
       "    <tr>\n",
       "      <th>0</th>\n",
       "      <td>37</td>\n",
       "      <td>https://insights.blackcoffer.com/ai-in-healthc...</td>\n",
       "    </tr>\n",
       "    <tr>\n",
       "      <th>1</th>\n",
       "      <td>38</td>\n",
       "      <td>https://insights.blackcoffer.com/what-if-the-c...</td>\n",
       "    </tr>\n",
       "    <tr>\n",
       "      <th>2</th>\n",
       "      <td>39</td>\n",
       "      <td>https://insights.blackcoffer.com/what-jobs-wil...</td>\n",
       "    </tr>\n",
       "    <tr>\n",
       "      <th>3</th>\n",
       "      <td>40</td>\n",
       "      <td>https://insights.blackcoffer.com/will-machine-...</td>\n",
       "    </tr>\n",
       "    <tr>\n",
       "      <th>4</th>\n",
       "      <td>41</td>\n",
       "      <td>https://insights.blackcoffer.com/will-ai-repla...</td>\n",
       "    </tr>\n",
       "    <tr>\n",
       "      <th>5</th>\n",
       "      <td>42</td>\n",
       "      <td>https://insights.blackcoffer.com/man-and-machi...</td>\n",
       "    </tr>\n",
       "    <tr>\n",
       "      <th>6</th>\n",
       "      <td>43</td>\n",
       "      <td>https://insights.blackcoffer.com/in-future-or-...</td>\n",
       "    </tr>\n",
       "    <tr>\n",
       "      <th>7</th>\n",
       "      <td>44</td>\n",
       "      <td>https://insights.blackcoffer.com/how-neural-ne...</td>\n",
       "    </tr>\n",
       "  </tbody>\n",
       "</table>\n",
       "</div>"
      ],
      "text/plain": [
       "   URL_ID                                                URL\n",
       "0      37  https://insights.blackcoffer.com/ai-in-healthc...\n",
       "1      38  https://insights.blackcoffer.com/what-if-the-c...\n",
       "2      39  https://insights.blackcoffer.com/what-jobs-wil...\n",
       "3      40  https://insights.blackcoffer.com/will-machine-...\n",
       "4      41  https://insights.blackcoffer.com/will-ai-repla...\n",
       "5      42  https://insights.blackcoffer.com/man-and-machi...\n",
       "6      43  https://insights.blackcoffer.com/in-future-or-...\n",
       "7      44  https://insights.blackcoffer.com/how-neural-ne..."
      ]
     },
     "execution_count": 69,
     "metadata": {},
     "output_type": "execute_result"
    }
   ],
   "source": [
    "df.head(8)"
   ]
  },
  {
   "cell_type": "code",
   "execution_count": 70,
   "id": "34f61ee0",
   "metadata": {},
   "outputs": [
    {
     "data": {
      "text/plain": [
       "112"
      ]
     },
     "execution_count": 70,
     "metadata": {},
     "output_type": "execute_result"
    }
   ],
   "source": [
    "len(df)"
   ]
  },
  {
   "cell_type": "code",
   "execution_count": 71,
   "id": "db484036",
   "metadata": {},
   "outputs": [
    {
     "data": {
      "text/plain": [
       "URL_ID                                                   37\n",
       "URL       https://insights.blackcoffer.com/ai-in-healthc...\n",
       "Name: 0, dtype: object"
      ]
     },
     "execution_count": 71,
     "metadata": {},
     "output_type": "execute_result"
    }
   ],
   "source": [
    "df.loc[0]"
   ]
  },
  {
   "cell_type": "code",
   "execution_count": 72,
   "id": "0c261ae6",
   "metadata": {},
   "outputs": [],
   "source": [
    "df1=df.loc[:,\"URL\"]"
   ]
  },
  {
   "cell_type": "code",
   "execution_count": 73,
   "id": "f6993749",
   "metadata": {},
   "outputs": [
    {
     "data": {
      "text/plain": [
       "0     https://insights.blackcoffer.com/ai-in-healthc...\n",
       "1     https://insights.blackcoffer.com/what-if-the-c...\n",
       "2     https://insights.blackcoffer.com/what-jobs-wil...\n",
       "3     https://insights.blackcoffer.com/will-machine-...\n",
       "4     https://insights.blackcoffer.com/will-ai-repla...\n",
       "5     https://insights.blackcoffer.com/man-and-machi...\n",
       "6     https://insights.blackcoffer.com/in-future-or-...\n",
       "7     https://insights.blackcoffer.com/how-neural-ne...\n",
       "9     https://insights.blackcoffer.com/deep-learning...\n",
       "10    https://insights.blackcoffer.com/how-to-protec...\n",
       "11    https://insights.blackcoffer.com/how-machines-...\n",
       "12    https://insights.blackcoffer.com/ai-human-robo...\n",
       "13    https://insights.blackcoffer.com/how-ai-will-c...\n",
       "Name: URL, dtype: object"
      ]
     },
     "execution_count": 73,
     "metadata": {},
     "output_type": "execute_result"
    }
   ],
   "source": [
    "df1.head(13)"
   ]
  },
  {
   "cell_type": "code",
   "execution_count": 74,
   "id": "b59d08dc",
   "metadata": {},
   "outputs": [],
   "source": [
    "list=[]\n",
    "for i in df1:\n",
    "    list.append(i)"
   ]
  },
  {
   "cell_type": "code",
   "execution_count": 75,
   "id": "316d3408",
   "metadata": {},
   "outputs": [],
   "source": [
    "df3=df.head(100)"
   ]
  },
  {
   "cell_type": "code",
   "execution_count": 76,
   "id": "c2c39eaa",
   "metadata": {},
   "outputs": [
    {
     "data": {
      "text/html": [
       "<div>\n",
       "<style scoped>\n",
       "    .dataframe tbody tr th:only-of-type {\n",
       "        vertical-align: middle;\n",
       "    }\n",
       "\n",
       "    .dataframe tbody tr th {\n",
       "        vertical-align: top;\n",
       "    }\n",
       "\n",
       "    .dataframe thead th {\n",
       "        text-align: right;\n",
       "    }\n",
       "</style>\n",
       "<table border=\"1\" class=\"dataframe\">\n",
       "  <thead>\n",
       "    <tr style=\"text-align: right;\">\n",
       "      <th></th>\n",
       "      <th>URL_ID</th>\n",
       "      <th>URL</th>\n",
       "    </tr>\n",
       "  </thead>\n",
       "  <tbody>\n",
       "    <tr>\n",
       "      <th>0</th>\n",
       "      <td>37</td>\n",
       "      <td>https://insights.blackcoffer.com/ai-in-healthc...</td>\n",
       "    </tr>\n",
       "    <tr>\n",
       "      <th>1</th>\n",
       "      <td>38</td>\n",
       "      <td>https://insights.blackcoffer.com/what-if-the-c...</td>\n",
       "    </tr>\n",
       "    <tr>\n",
       "      <th>2</th>\n",
       "      <td>39</td>\n",
       "      <td>https://insights.blackcoffer.com/what-jobs-wil...</td>\n",
       "    </tr>\n",
       "    <tr>\n",
       "      <th>3</th>\n",
       "      <td>40</td>\n",
       "      <td>https://insights.blackcoffer.com/will-machine-...</td>\n",
       "    </tr>\n",
       "    <tr>\n",
       "      <th>4</th>\n",
       "      <td>41</td>\n",
       "      <td>https://insights.blackcoffer.com/will-ai-repla...</td>\n",
       "    </tr>\n",
       "    <tr>\n",
       "      <th>...</th>\n",
       "      <td>...</td>\n",
       "      <td>...</td>\n",
       "    </tr>\n",
       "    <tr>\n",
       "      <th>97</th>\n",
       "      <td>134</td>\n",
       "      <td>https://insights.blackcoffer.com/coronavirus-d...</td>\n",
       "    </tr>\n",
       "    <tr>\n",
       "      <th>98</th>\n",
       "      <td>135</td>\n",
       "      <td>https://insights.blackcoffer.com/should-people...</td>\n",
       "    </tr>\n",
       "    <tr>\n",
       "      <th>99</th>\n",
       "      <td>136</td>\n",
       "      <td>https://insights.blackcoffer.com/why-is-there-...</td>\n",
       "    </tr>\n",
       "    <tr>\n",
       "      <th>100</th>\n",
       "      <td>137</td>\n",
       "      <td>https://insights.blackcoffer.com/what-do-you-t...</td>\n",
       "    </tr>\n",
       "    <tr>\n",
       "      <th>101</th>\n",
       "      <td>138</td>\n",
       "      <td>https://insights.blackcoffer.com/coronavirus-t...</td>\n",
       "    </tr>\n",
       "  </tbody>\n",
       "</table>\n",
       "<p>100 rows × 2 columns</p>\n",
       "</div>"
      ],
      "text/plain": [
       "     URL_ID                                                URL\n",
       "0        37  https://insights.blackcoffer.com/ai-in-healthc...\n",
       "1        38  https://insights.blackcoffer.com/what-if-the-c...\n",
       "2        39  https://insights.blackcoffer.com/what-jobs-wil...\n",
       "3        40  https://insights.blackcoffer.com/will-machine-...\n",
       "4        41  https://insights.blackcoffer.com/will-ai-repla...\n",
       "..      ...                                                ...\n",
       "97      134  https://insights.blackcoffer.com/coronavirus-d...\n",
       "98      135  https://insights.blackcoffer.com/should-people...\n",
       "99      136  https://insights.blackcoffer.com/why-is-there-...\n",
       "100     137  https://insights.blackcoffer.com/what-do-you-t...\n",
       "101     138  https://insights.blackcoffer.com/coronavirus-t...\n",
       "\n",
       "[100 rows x 2 columns]"
      ]
     },
     "execution_count": 76,
     "metadata": {},
     "output_type": "execute_result"
    }
   ],
   "source": [
    "df3"
   ]
  },
  {
   "cell_type": "code",
   "execution_count": 77,
   "id": "f0a749a6",
   "metadata": {},
   "outputs": [
    {
     "data": {
      "text/plain": [
       "112"
      ]
     },
     "execution_count": 77,
     "metadata": {},
     "output_type": "execute_result"
    }
   ],
   "source": [
    "len(df)"
   ]
  },
  {
   "cell_type": "code",
   "execution_count": 91,
   "id": "a4d79c7f",
   "metadata": {},
   "outputs": [],
   "source": [
    "df.drop(index=6,inplace=True)"
   ]
  },
  {
   "cell_type": "code",
   "execution_count": 79,
   "id": "ba9bebfb",
   "metadata": {},
   "outputs": [],
   "source": [
    "df2=df.loc[:,\"URL\"]"
   ]
  },
  {
   "cell_type": "code",
   "execution_count": 80,
   "id": "64ec5f0a",
   "metadata": {},
   "outputs": [
    {
     "data": {
      "text/plain": [
       "0      https://insights.blackcoffer.com/ai-in-healthc...\n",
       "1      https://insights.blackcoffer.com/what-if-the-c...\n",
       "2      https://insights.blackcoffer.com/what-jobs-wil...\n",
       "3      https://insights.blackcoffer.com/will-machine-...\n",
       "4      https://insights.blackcoffer.com/will-ai-repla...\n",
       "                             ...                        \n",
       "109    https://insights.blackcoffer.com/blockchain-fo...\n",
       "110    https://insights.blackcoffer.com/the-future-of...\n",
       "111    https://insights.blackcoffer.com/big-data-anal...\n",
       "112    https://insights.blackcoffer.com/business-anal...\n",
       "113    https://insights.blackcoffer.com/challenges-an...\n",
       "Name: URL, Length: 111, dtype: object"
      ]
     },
     "execution_count": 80,
     "metadata": {},
     "output_type": "execute_result"
    }
   ],
   "source": [
    "df2"
   ]
  },
  {
   "cell_type": "code",
   "execution_count": 81,
   "id": "707abd3c",
   "metadata": {},
   "outputs": [
    {
     "data": {
      "text/plain": [
       "111"
      ]
     },
     "execution_count": 81,
     "metadata": {},
     "output_type": "execute_result"
    }
   ],
   "source": [
    "len(df2)"
   ]
  },
  {
   "cell_type": "code",
   "execution_count": 82,
   "id": "0cc4e90e",
   "metadata": {},
   "outputs": [
    {
     "data": {
      "text/plain": [
       "0     https://insights.blackcoffer.com/ai-in-healthc...\n",
       "1     https://insights.blackcoffer.com/what-if-the-c...\n",
       "2     https://insights.blackcoffer.com/what-jobs-wil...\n",
       "3     https://insights.blackcoffer.com/will-machine-...\n",
       "4     https://insights.blackcoffer.com/will-ai-repla...\n",
       "5     https://insights.blackcoffer.com/man-and-machi...\n",
       "6     https://insights.blackcoffer.com/in-future-or-...\n",
       "9     https://insights.blackcoffer.com/deep-learning...\n",
       "10    https://insights.blackcoffer.com/how-to-protec...\n",
       "Name: URL, dtype: object"
      ]
     },
     "execution_count": 82,
     "metadata": {},
     "output_type": "execute_result"
    }
   ],
   "source": [
    "df2.head(9)"
   ]
  },
  {
   "cell_type": "code",
   "execution_count": 83,
   "id": "09a09b8c",
   "metadata": {},
   "outputs": [],
   "source": [
    "list1=[]\n",
    "for j in df2:\n",
    "    list1.append(j)"
   ]
  },
  {
   "cell_type": "code",
   "execution_count": 84,
   "id": "2f18c21b",
   "metadata": {},
   "outputs": [
    {
     "data": {
      "text/plain": [
       "111"
      ]
     },
     "execution_count": 84,
     "metadata": {},
     "output_type": "execute_result"
    }
   ],
   "source": [
    "len(list1)"
   ]
  },
  {
   "cell_type": "code",
   "execution_count": 88,
   "id": "854d6510",
   "metadata": {},
   "outputs": [],
   "source": [
    "#list1"
   ]
  },
  {
   "cell_type": "code",
   "execution_count": 89,
   "id": "e99ee8e0",
   "metadata": {},
   "outputs": [],
   "source": [
    "#raw_request = Request(list1[4])\n",
    "#raw_request.add_header('User-Agent', 'Mozilla/5.0 (Macintosh; Intel Mac OS X 10.15; rv:78.0) Gecko/20100101 Firefox/78.0')\n",
    "#raw_request.add_header('Accept', 'text/html,application/xhtml+xml,application/xml;q=0.9,image/webp,*/*;q=0.8')\n",
    "#resp = urlopen(raw_request)"
   ]
  },
  {
   "cell_type": "code",
   "execution_count": 97,
   "id": "749eca22",
   "metadata": {},
   "outputs": [],
   "source": [
    "#mylist=[]\n",
    "#for k in list1:\n",
    "    #raw_request = Request(k)\n",
    "    #raw_request.add_header('User-Agent', 'Mozilla/5.0 (Macintosh; Intel Mac OS X 10.15; rv:78.0) Gecko/20100101 Firefox/78.0')\n",
    "    #raw_request.add_header('Accept', 'text/html,application/xhtml+xml,application/xml;q=0.9,image/webp,*/*;q=0.8')\n",
    "    #resp = urlopen(raw_request)\n",
    "    #mylist.append(resp)"
   ]
  },
  {
   "cell_type": "code",
   "execution_count": null,
   "id": "dbc35183",
   "metadata": {},
   "outputs": [],
   "source": [
    "mylist"
   ]
  },
  {
   "cell_type": "code",
   "execution_count": null,
   "id": "1b54ae5a",
   "metadata": {},
   "outputs": [],
   "source": [
    "mylist1=[]\n",
    "for f in mylist:\n",
    "    a=f.read()\n",
    "    mylist1.append(a)\n",
    "    "
   ]
  },
  {
   "cell_type": "code",
   "execution_count": null,
   "id": "05595107",
   "metadata": {},
   "outputs": [],
   "source": [
    "len(mylist1)"
   ]
  },
  {
   "cell_type": "code",
   "execution_count": null,
   "id": "466986ec",
   "metadata": {},
   "outputs": [],
   "source": [
    "mylist2=[]\n",
    "for r in mylist1:\n",
    "    z=BeautifulSoup(r,\"html.parser\")\n",
    "    mylist2.append(z)"
   ]
  },
  {
   "cell_type": "code",
   "execution_count": null,
   "id": "df016f72",
   "metadata": {},
   "outputs": [],
   "source": [
    "len(mylist2)"
   ]
  },
  {
   "cell_type": "code",
   "execution_count": null,
   "id": "0f370b6c",
   "metadata": {},
   "outputs": [],
   "source": [
    "mylist3=[]\n",
    "for l in mylist2:\n",
    "    data1=l.find('div',{'class':'td-pb-span8 td-main-content'})\n",
    "    final=data1.div.div.text\n",
    "    mylist3.append(final)\n",
    "    "
   ]
  },
  {
   "cell_type": "code",
   "execution_count": null,
   "id": "edd09237",
   "metadata": {},
   "outputs": [],
   "source": [
    "len(mylist3)"
   ]
  },
  {
   "cell_type": "code",
   "execution_count": null,
   "id": "76435f7f",
   "metadata": {},
   "outputs": [],
   "source": [
    "mylist3[1]"
   ]
  },
  {
   "cell_type": "code",
   "execution_count": null,
   "id": "a00f236f",
   "metadata": {},
   "outputs": [],
   "source": [
    "for c in list:\n",
    "    print(c)"
   ]
  },
  {
   "cell_type": "code",
   "execution_count": null,
   "id": "b6aec8b0",
   "metadata": {},
   "outputs": [],
   "source": [
    "dataf=pd.DataFrame(mylist3)"
   ]
  },
  {
   "cell_type": "code",
   "execution_count": null,
   "id": "db23b709",
   "metadata": {},
   "outputs": [],
   "source": [
    "dataf"
   ]
  },
  {
   "cell_type": "code",
   "execution_count": null,
   "id": "70b22637",
   "metadata": {},
   "outputs": [],
   "source": [
    "#from pathlib import Path  \n",
    "#filepath = Path('D:\\MY NOTES')  \n",
    "#filepath.parent.mkdir(parents=True, exist_ok=True)  \n",
    "#df.to_csv(filepath)  "
   ]
  },
  {
   "cell_type": "code",
   "execution_count": null,
   "id": "48234946",
   "metadata": {},
   "outputs": [],
   "source": [
    "dataf.to_csv (r'C:\\Blackcoffer\\export_dataframe.csv', index = None, header=True)"
   ]
  },
  {
   "cell_type": "code",
   "execution_count": null,
   "id": "7bd8e474",
   "metadata": {},
   "outputs": [],
   "source": [
    "pd.read_csv('export_dataframe.csv')"
   ]
  },
  {
   "cell_type": "code",
   "execution_count": null,
   "id": "828fea1c",
   "metadata": {},
   "outputs": [],
   "source": []
  },
  {
   "cell_type": "code",
   "execution_count": null,
   "id": "f8021dbd",
   "metadata": {},
   "outputs": [],
   "source": []
  },
  {
   "cell_type": "code",
   "execution_count": null,
   "id": "df7e2618",
   "metadata": {},
   "outputs": [],
   "source": []
  },
  {
   "cell_type": "code",
   "execution_count": null,
   "id": "d599dbcd",
   "metadata": {},
   "outputs": [],
   "source": []
  },
  {
   "cell_type": "code",
   "execution_count": null,
   "id": "44c83c4c",
   "metadata": {},
   "outputs": [],
   "source": []
  },
  {
   "cell_type": "code",
   "execution_count": null,
   "id": "3c1470e0",
   "metadata": {},
   "outputs": [],
   "source": []
  },
  {
   "cell_type": "code",
   "execution_count": null,
   "id": "5913e560",
   "metadata": {},
   "outputs": [],
   "source": []
  },
  {
   "cell_type": "code",
   "execution_count": null,
   "id": "6cb683c7",
   "metadata": {},
   "outputs": [],
   "source": []
  },
  {
   "cell_type": "code",
   "execution_count": null,
   "id": "492d03a2",
   "metadata": {},
   "outputs": [],
   "source": []
  },
  {
   "cell_type": "code",
   "execution_count": null,
   "id": "60dd0388",
   "metadata": {},
   "outputs": [],
   "source": []
  },
  {
   "cell_type": "code",
   "execution_count": null,
   "id": "8738662d",
   "metadata": {},
   "outputs": [],
   "source": []
  },
  {
   "cell_type": "code",
   "execution_count": null,
   "id": "9183550a",
   "metadata": {},
   "outputs": [],
   "source": []
  },
  {
   "cell_type": "code",
   "execution_count": null,
   "id": "84649f10",
   "metadata": {},
   "outputs": [],
   "source": []
  },
  {
   "cell_type": "code",
   "execution_count": null,
   "id": "a152dd9f",
   "metadata": {},
   "outputs": [],
   "source": []
  }
 ],
 "metadata": {
  "kernelspec": {
   "display_name": "Python 3 (ipykernel)",
   "language": "python",
   "name": "python3"
  },
  "language_info": {
   "codemirror_mode": {
    "name": "ipython",
    "version": 3
   },
   "file_extension": ".py",
   "mimetype": "text/x-python",
   "name": "python",
   "nbconvert_exporter": "python",
   "pygments_lexer": "ipython3",
   "version": "3.9.7"
  }
 },
 "nbformat": 4,
 "nbformat_minor": 5
}
