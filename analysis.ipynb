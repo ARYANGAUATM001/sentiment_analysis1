{
 "cells": [
  {
   "cell_type": "code",
   "execution_count": 6,
   "id": "8a524c53",
   "metadata": {},
   "outputs": [],
   "source": [
    "#REMOVE SPECIAL CHARACTERS|"
   ]
  },
  {
   "cell_type": "code",
   "execution_count": 7,
   "id": "05408ae9",
   "metadata": {},
   "outputs": [],
   "source": [
    "import string\n",
    "\n"
   ]
  },
  {
   "cell_type": "code",
   "execution_count": 356,
   "id": "02da9f04",
   "metadata": {},
   "outputs": [],
   "source": [
    "import nltk\n",
    "from nltk.tokenize import sent_tokenize\n",
    "from nltk.tokenize import word_tokenize\n",
    "from nltk.corpus import stopwords\n",
    "from nltk.tokenize import word_tokenize\n",
    "from nltk.sentiment.vader import SentimentIntensityAnalyzer\n",
    "import string\n",
    "import csv\n",
    "import numpy as np"
   ]
  },
  {
   "cell_type": "code",
   "execution_count": 8,
   "id": "34d6f571",
   "metadata": {},
   "outputs": [
    {
     "data": {
      "text/plain": [
       "'!\"#$%&\\'()*+,-./:;<=>?@[\\\\]^_`{|}~'"
      ]
     },
     "execution_count": 8,
     "metadata": {},
     "output_type": "execute_result"
    }
   ],
   "source": [
    "string.punctuation"
   ]
  },
  {
   "cell_type": "code",
   "execution_count": 9,
   "id": "e030901f",
   "metadata": {},
   "outputs": [],
   "source": [
    "#TRANSLATING INTO LOWERCASE AS FOR ANALYSIS UPPERCASE AND LOWERCASE ARE NOT SAME i.e. it is case sensitive \n",
    "#lower_case.translate(str.maketrans(\" \", \" \",string.punctuation))"
   ]
  },
  {
   "cell_type": "code",
   "execution_count": 10,
   "id": "890ed3c6",
   "metadata": {},
   "outputs": [],
   "source": [
    "import pandas as pd"
   ]
  },
  {
   "cell_type": "code",
   "execution_count": 11,
   "id": "51e9c955",
   "metadata": {},
   "outputs": [],
   "source": [
    "df1=pd.read_csv(\"ScrapedFinalData_123.csv\")"
   ]
  },
  {
   "cell_type": "code",
   "execution_count": 12,
   "id": "4395761a",
   "metadata": {},
   "outputs": [],
   "source": [
    "#df1"
   ]
  },
  {
   "cell_type": "code",
   "execution_count": 13,
   "id": "be34c081",
   "metadata": {},
   "outputs": [],
   "source": [
    "df1.rename(columns = {'Content':''}, inplace = True)"
   ]
  },
  {
   "cell_type": "code",
   "execution_count": 14,
   "id": "e947dd75",
   "metadata": {},
   "outputs": [],
   "source": [
    "df1.rename(columns = {'0':''}, inplace = True)"
   ]
  },
  {
   "cell_type": "code",
   "execution_count": 15,
   "id": "95397501",
   "metadata": {},
   "outputs": [],
   "source": [
    "#df1"
   ]
  },
  {
   "cell_type": "code",
   "execution_count": 16,
   "id": "e6ab66e6",
   "metadata": {},
   "outputs": [],
   "source": [
    "df1.to_csv(r'C:\\Users\\DELL\\final_426data.csv', index = None, header=True)"
   ]
  },
  {
   "cell_type": "code",
   "execution_count": 17,
   "id": "c02ff776",
   "metadata": {},
   "outputs": [],
   "source": [
    "data_123=pd.read_csv(\"final_426data.csv\")"
   ]
  },
  {
   "cell_type": "code",
   "execution_count": 18,
   "id": "50a5aad6",
   "metadata": {},
   "outputs": [],
   "source": [
    "data_123.rename( columns={'Unnamed: 0':'0'}, inplace=True )"
   ]
  },
  {
   "cell_type": "code",
   "execution_count": 19,
   "id": "7d0291f3",
   "metadata": {},
   "outputs": [],
   "source": [
    "data_123.rename( columns={'Unnamed: 1':'1'}, inplace=True )"
   ]
  },
  {
   "cell_type": "code",
   "execution_count": 20,
   "id": "d8430864",
   "metadata": {},
   "outputs": [],
   "source": [
    "first_url_data=data_123[\"1\"][0]"
   ]
  },
  {
   "cell_type": "code",
   "execution_count": 21,
   "id": "c9eba7fc",
   "metadata": {},
   "outputs": [],
   "source": [
    "#first_url_data"
   ]
  },
  {
   "cell_type": "code",
   "execution_count": 22,
   "id": "810713cc",
   "metadata": {},
   "outputs": [],
   "source": [
    "#import csv\n",
    "#csv_file = input('final_426data.csv')\n",
    "#txt_file = input('black_426.txt ')\n",
    "#with open(txt_file, \"w\") as my_output_file:\n",
    "    #with open(csv_file, \"r\") as my_input_file:\n",
    "        #my_output_file.write(\" \".join(row)+'\\n') for row in csv.reader(my_input_file)\n",
    "        #my_output_file.close()"
   ]
  },
  {
   "cell_type": "code",
   "execution_count": 23,
   "id": "7a3c73b8",
   "metadata": {},
   "outputs": [],
   "source": [
    "text_1=open(\"black_426.txt\",encoding='utf-8').read()"
   ]
  },
  {
   "cell_type": "code",
   "execution_count": 24,
   "id": "130d387a",
   "metadata": {},
   "outputs": [],
   "source": [
    "lower_case1=first_url_data.lower()"
   ]
  },
  {
   "cell_type": "code",
   "execution_count": 25,
   "id": "45f182e9",
   "metadata": {},
   "outputs": [],
   "source": [
    "#first_url_data"
   ]
  },
  {
   "cell_type": "code",
   "execution_count": 26,
   "id": "8c03ed43",
   "metadata": {},
   "outputs": [],
   "source": [
    "article_list=[]\n",
    "for i in range(len(df1)):\n",
    "    article_data=data_123[\"1\"][i]\n",
    "    article_data=article_data.lower()\n",
    "    article_data=article_data.replace(\"/x\",\"\")\n",
    "    article_data=article_data.replace(\"\\xa0\",\"\")\n",
    "    article_data=article_data.replace(\"\\n\",\"\")\n",
    "    article_list.append(article_data)"
   ]
  },
  {
   "cell_type": "code",
   "execution_count": 27,
   "id": "9562d237",
   "metadata": {},
   "outputs": [],
   "source": [
    "#article_list[0]"
   ]
  },
  {
   "cell_type": "code",
   "execution_count": 28,
   "id": "23dafb4d",
   "metadata": {},
   "outputs": [],
   "source": [
    "#article_data=article_data.translate(str.maketrans(\" \", \" \",string.punctuation))"
   ]
  },
  {
   "cell_type": "code",
   "execution_count": 29,
   "id": "63ae6f1b",
   "metadata": {},
   "outputs": [],
   "source": [
    "#dt=lowercase_data.replace(\"\\n\",\"\")"
   ]
  },
  {
   "cell_type": "code",
   "execution_count": 30,
   "id": "817904ab",
   "metadata": {},
   "outputs": [],
   "source": [
    "#dt1=dt.replace(\"/x\",\"\")"
   ]
  },
  {
   "cell_type": "code",
   "execution_count": 31,
   "id": "df0bea0c",
   "metadata": {},
   "outputs": [],
   "source": [
    "#dt1=dt1.replace(\"\\xa0\",\"\")"
   ]
  },
  {
   "cell_type": "code",
   "execution_count": 32,
   "id": "55c13189",
   "metadata": {},
   "outputs": [],
   "source": [
    "#cleaned_data=dt1"
   ]
  },
  {
   "cell_type": "code",
   "execution_count": 33,
   "id": "2bfa4f60",
   "metadata": {},
   "outputs": [],
   "source": [
    "#STOP WORDS DONT ADD ANY MEANING OR VALUE IN NATURAL LANGUAGE PROCESSING"
   ]
  },
  {
   "cell_type": "code",
   "execution_count": 34,
   "id": "0334faf2",
   "metadata": {},
   "outputs": [],
   "source": [
    "\n",
    "# opening the file in read mode\n",
    "my_file = open(\"StopWords_Auditor.txt\", \"r\")\n",
    "  \n",
    "# reading the file\n",
    "data = my_file.read()\n",
    "  \n",
    "# replacing end of line('/n') with ' ' and\n",
    "# splitting the text it further when '.' is seen.\n",
    "data_into_list1 = data.split(\"\\n\")\n",
    "  \n",
    "# printing the data\n",
    "#print(data_into_list1)\n",
    "my_file.close()"
   ]
  },
  {
   "cell_type": "code",
   "execution_count": 35,
   "id": "e5c77cee",
   "metadata": {},
   "outputs": [],
   "source": [
    "\n",
    "# opening the file in read mode\n",
    "my_file = open(\"StopWords_Currencies.txt\", \"r\")\n",
    "  \n",
    "# reading the file\n",
    "data = my_file.read()\n",
    "  \n",
    "# replacing end of line('/n') with ' ' and\n",
    "# splitting the text it further when '.' is seen.\n",
    "data_into_list2 = data.split(\"\\n\")\n",
    "  \n",
    "# printing the data\n",
    "#print(data_into_list2)\n",
    "my_file.close()"
   ]
  },
  {
   "cell_type": "code",
   "execution_count": 36,
   "id": "41f6d3f0",
   "metadata": {},
   "outputs": [],
   "source": [
    "# opening the file in read mode\n",
    "my_file = open(\"StopWords_DatesandNumbers.txt\", \"r\")\n",
    "  \n",
    "# reading the file\n",
    "data = my_file.read()\n",
    "  \n",
    "# replacing end of line('/n') with ' ' and\n",
    "# splitting the text it further when '.' is seen.\n",
    "data_into_list3 = data.split(\"\\n\")\n",
    "  \n",
    "# printing the data\n",
    "#print(data_into_list3)\n",
    "my_file.close()"
   ]
  },
  {
   "cell_type": "code",
   "execution_count": 37,
   "id": "ece8a8e2",
   "metadata": {},
   "outputs": [],
   "source": [
    "my_file = open(\"StopWords_Generic.txt\", \"r\")\n",
    "  \n",
    "# reading the file\n",
    "data = my_file.read()\n",
    "  \n",
    "# replacing end of line('/n') with ' ' and\n",
    "# splitting the text it further when '.' is seen.\n",
    "data_into_list4 = data.split(\"\\n\")\n",
    "  \n",
    "# printing the data\n",
    "#print(data_into_list4)\n",
    "my_file.close()"
   ]
  },
  {
   "cell_type": "code",
   "execution_count": 38,
   "id": "711e290f",
   "metadata": {},
   "outputs": [],
   "source": [
    "my_file = open(\"StopWords_GenericLong.txt\", \"r\")\n",
    "  \n",
    "# reading the file\n",
    "data = my_file.read()\n",
    "  \n",
    "# replacing end of line('/n') with ' ' and\n",
    "# splitting the text it further when '.' is seen.\n",
    "data_into_list5 = data.split(\"\\n\")\n",
    "  \n",
    "# printing the data\n",
    "#print(data_into_list5)\n",
    "my_file.close()"
   ]
  },
  {
   "cell_type": "code",
   "execution_count": 39,
   "id": "116c1fc0",
   "metadata": {},
   "outputs": [],
   "source": [
    "my_file = open(\"StopWords_Geographic.txt\", \"r\")\n",
    "  \n",
    "# reading the file\n",
    "data = my_file.read()\n",
    "  \n",
    "# replacing end of line('/n') with ' ' and\n",
    "# splitting the text it further when '.' is seen.\n",
    "data_into_list6 = data.split(\"\\n\")\n",
    "  \n",
    "# printing the data\n",
    "#print(data_into_list6)\n",
    "my_file.close()"
   ]
  },
  {
   "cell_type": "code",
   "execution_count": 40,
   "id": "4f5bf379",
   "metadata": {},
   "outputs": [],
   "source": [
    "my_file = open(\"StopWords_Names.txt\", \"r\")\n",
    "  \n",
    "# reading the file\n",
    "data = my_file.read()\n",
    "  \n",
    "# replacing end of line('/n') with ' ' and\n",
    "# splitting the text it further when '.' is seen.\n",
    "data_into_list7 = data.split(\"\\n\")\n",
    "  \n",
    "# printing the data\n",
    "#print(data_into_list7)\n",
    "my_file.close()"
   ]
  },
  {
   "cell_type": "code",
   "execution_count": 41,
   "id": "f8a7e86d",
   "metadata": {},
   "outputs": [],
   "source": [
    "stop_words=data_into_list1+data_into_list2+data_into_list3+data_into_list4+data_into_list5+data_into_list6+data_into_list7"
   ]
  },
  {
   "cell_type": "code",
   "execution_count": 42,
   "id": "8d109eec",
   "metadata": {},
   "outputs": [],
   "source": [
    "#final_words=[]\n",
    "#for word in tokenized_words:\n",
    "    #if word not in stop_words:\n",
    "        #final_words.append(word)"
   ]
  },
  {
   "cell_type": "code",
   "execution_count": 43,
   "id": "fd46d4ee",
   "metadata": {},
   "outputs": [],
   "source": [
    "stop_words.remove('')"
   ]
  },
  {
   "cell_type": "code",
   "execution_count": 44,
   "id": "8ae1bf7a",
   "metadata": {},
   "outputs": [],
   "source": [
    "#stop_words"
   ]
  },
  {
   "cell_type": "code",
   "execution_count": 45,
   "id": "61f783b2",
   "metadata": {},
   "outputs": [],
   "source": [
    "#print(final_words)"
   ]
  },
  {
   "cell_type": "code",
   "execution_count": 46,
   "id": "9aedb3eb",
   "metadata": {},
   "outputs": [],
   "source": [
    "my_file = open(\"positive-words.txt\", \"r\")\n",
    "  \n",
    "# reading the file\n",
    "data = my_file.read()\n",
    "  \n",
    "# replacing end of line('/n') with ' ' and\n",
    "# splitting the text it further when '.' is seen.\n",
    "positive_words_list = data.split(\"\\n\")\n",
    "  \n",
    "# printing the data\n",
    "#print(positive_words_list)\n",
    "my_file.close()"
   ]
  },
  {
   "cell_type": "code",
   "execution_count": 47,
   "id": "9fcecc85",
   "metadata": {},
   "outputs": [],
   "source": [
    "my_file = open(\"negative-words.txt\", \"r\")\n",
    "  \n",
    "# reading the file\n",
    "data = my_file.read()\n",
    "  \n",
    "# replacing end of line('/n') with ' ' and\n",
    "# splitting the text it further when '.' is seen.\n",
    "negative_words_list = data.split(\"\\n\")\n",
    "  \n",
    "# printing the data\n",
    "#print(negative_words_list)\n",
    "my_file.close()"
   ]
  },
  {
   "cell_type": "code",
   "execution_count": 48,
   "id": "6757775d",
   "metadata": {},
   "outputs": [],
   "source": [
    "positive_words=[]\n",
    "for wordd in positive_words_list:\n",
    "    if wordd not in stop_words:\n",
    "        positive_words.append(wordd)"
   ]
  },
  {
   "cell_type": "code",
   "execution_count": 49,
   "id": "42ed3aef",
   "metadata": {},
   "outputs": [],
   "source": [
    "#negative_words=[]\n",
    "#for wor in negative_words_list:\n",
    "    #if wor not in stop_words:\n",
    "        #negative_words.append(wor)"
   ]
  },
  {
   "cell_type": "code",
   "execution_count": 50,
   "id": "96cfcf8c",
   "metadata": {},
   "outputs": [],
   "source": [
    "#final_words\n",
    "#positive_words\n",
    "#negative_words"
   ]
  },
  {
   "cell_type": "code",
   "execution_count": 51,
   "id": "99ccb260",
   "metadata": {},
   "outputs": [],
   "source": [
    "#pip install nltk"
   ]
  },
  {
   "cell_type": "code",
   "execution_count": 52,
   "id": "12a5b854",
   "metadata": {},
   "outputs": [],
   "source": [
    "from collections import Counter"
   ]
  },
  {
   "cell_type": "code",
   "execution_count": 53,
   "id": "c6b10ed1",
   "metadata": {},
   "outputs": [],
   "source": [
    "#from nltk.tokenize import word_tokenize"
   ]
  },
  {
   "cell_type": "code",
   "execution_count": 54,
   "id": "0b23e953",
   "metadata": {},
   "outputs": [],
   "source": [
    "#from nltk.corpus import stopwords"
   ]
  },
  {
   "cell_type": "code",
   "execution_count": 55,
   "id": "60a56d40",
   "metadata": {},
   "outputs": [],
   "source": [
    "#tokenized_words=word_tokenize(cleaned_data,\"english\")"
   ]
  },
  {
   "cell_type": "code",
   "execution_count": 56,
   "id": "8684899d",
   "metadata": {},
   "outputs": [],
   "source": [
    "article_data=[]\n",
    "for i in range(len(df1)):\n",
    "    article_dat=data_123[\"1\"][i]\n",
    "    article_data.append(article_dat)"
   ]
  },
  {
   "cell_type": "code",
   "execution_count": 57,
   "id": "6f25c81b",
   "metadata": {},
   "outputs": [
    {
     "data": {
      "text/plain": [
       "range(0, 110)"
      ]
     },
     "execution_count": 57,
     "metadata": {},
     "output_type": "execute_result"
    }
   ],
   "source": [
    "range(len(article_data))"
   ]
  },
  {
   "cell_type": "code",
   "execution_count": 58,
   "id": "3be8a9b8",
   "metadata": {},
   "outputs": [],
   "source": [
    "articles_lower=[]\n",
    "for i in range(len(article_data)):\n",
    "    \n",
    "    article=article_data[i].lower()\n",
    "    cleaned_data=article_data[i].translate(str.maketrans('','',string.punctuation))\n",
    "    tokenized_w=cleaned_data.split()\n",
    "    articles_lower.append(tokenized_w)"
   ]
  },
  {
   "cell_type": "code",
   "execution_count": 59,
   "id": "faff45fd",
   "metadata": {},
   "outputs": [],
   "source": [
    "#article_data[0]=article_data[0].lower()\n",
    "#cleaned_data=article_data[0].translate(str.maketrans('','',string.punctuation))\n",
    "#tokenized_w=cleaned_data.split()"
   ]
  },
  {
   "cell_type": "code",
   "execution_count": 353,
   "id": "4ffb6fe9",
   "metadata": {},
   "outputs": [],
   "source": [
    "#final_words=[]\n",
    "#finall_words=[]\n",
    "#for dat in tokenized_data:\n",
    "   # for word in dat:\n",
    "      #  if word not in stop_words:\n",
    "          #  finall_words.append(word)\n",
    "   # final_words.append(finall_words)"
   ]
  },
  {
   "cell_type": "code",
   "execution_count": 86,
   "id": "7373aae8",
   "metadata": {},
   "outputs": [],
   "source": [
    "#creating a list for positive score\n",
    "positive_words=[]\n",
    "for wordd in positive_words_list:\n",
    "    if wordd not in stop_words:\n",
    "        positive_words.append(wordd)"
   ]
  },
  {
   "cell_type": "code",
   "execution_count": 87,
   "id": "526e5329",
   "metadata": {},
   "outputs": [],
   "source": [
    "#creating a list for negative score\n",
    "negative_words=[]\n",
    "for wor in negative_words_list:\n",
    "    if wor not in stop_words:\n",
    "        negative_words.append(wor)"
   ]
  },
  {
   "cell_type": "code",
   "execution_count": 88,
   "id": "5d11058e",
   "metadata": {},
   "outputs": [
    {
     "data": {
      "text/plain": [
       "110"
      ]
     },
     "execution_count": 88,
     "metadata": {},
     "output_type": "execute_result"
    }
   ],
   "source": [
    "len(article_data)"
   ]
  },
  {
   "cell_type": "code",
   "execution_count": 89,
   "id": "cbf8e9bd",
   "metadata": {},
   "outputs": [],
   "source": [
    "#articles_lower[0]"
   ]
  },
  {
   "cell_type": "code",
   "execution_count": 90,
   "id": "dfced9df",
   "metadata": {},
   "outputs": [],
   "source": [
    "positive_list=[]\n",
    "for article_words in articles_lower:\n",
    "    \n",
    "        \n",
    "    positive_score=0\n",
    "    for word in article_words:\n",
    "        \n",
    "            \n",
    "        if word in positive_words:\n",
    "            \n",
    "                \n",
    "            positive_score+=1\n",
    "    positive_list.append(positive_score)\n",
    "        "
   ]
  },
  {
   "cell_type": "code",
   "execution_count": 91,
   "id": "643b2135",
   "metadata": {},
   "outputs": [],
   "source": [
    "negative_list=[]\n",
    "for article_words in articles_lower:\n",
    "    \n",
    "        \n",
    "    negative_score=0\n",
    "    for word in article_words:\n",
    "        \n",
    "            \n",
    "        if word in negative_words:\n",
    "            \n",
    "                \n",
    "            negative_score+=1\n",
    "    negative_list.append(negative_score)"
   ]
  },
  {
   "cell_type": "code",
   "execution_count": 244,
   "id": "7311bc1e",
   "metadata": {},
   "outputs": [
    {
     "data": {
      "text/plain": [
       "110"
      ]
     },
     "execution_count": 244,
     "metadata": {},
     "output_type": "execute_result"
    }
   ],
   "source": [
    "len(positive_list)"
   ]
  },
  {
   "cell_type": "code",
   "execution_count": 92,
   "id": "e9045ffa",
   "metadata": {},
   "outputs": [],
   "source": [
    "polarity_list=[]\n",
    "for i in range(len(positive_list)):\n",
    "    polarity_score=round((positive_list[i]-negative_list[i])/((positive_list[i]+negative_list[i])+0.000001),2)\n",
    "    polarity_list.append(polarity_score)"
   ]
  },
  {
   "cell_type": "code",
   "execution_count": 93,
   "id": "f4e4c3e3",
   "metadata": {},
   "outputs": [],
   "source": [
    "subjectivity_list=[]\n",
    "for i in range(len(positive_list)):\n",
    "    subjectivity_score=round((positive_list[i] + negative_list[i])/ ((len(articles_lower[i])) + 0.000001),2)\n",
    "    subjectivity_list.append(subjectivity_score)"
   ]
  },
  {
   "cell_type": "code",
   "execution_count": 94,
   "id": "e34e3478",
   "metadata": {},
   "outputs": [],
   "source": [
    "#subjectivity_list"
   ]
  },
  {
   "cell_type": "code",
   "execution_count": 95,
   "id": "535c20a9",
   "metadata": {},
   "outputs": [],
   "source": [
    "#polarity_list"
   ]
  },
  {
   "cell_type": "code",
   "execution_count": 96,
   "id": "3384440d",
   "metadata": {},
   "outputs": [],
   "source": [
    "tokenized_data=[]\n",
    "for data in article_data[1]:\n",
    "    tokenized_words=data.split()\n",
    "    tokenized_data.append(tokenized_words)"
   ]
  },
  {
   "cell_type": "code",
   "execution_count": 97,
   "id": "7176e3ab",
   "metadata": {},
   "outputs": [],
   "source": [
    "#article_data[0]=article_data[0].lower()\n"
   ]
  },
  {
   "cell_type": "code",
   "execution_count": 98,
   "id": "18b1054f",
   "metadata": {},
   "outputs": [],
   "source": [
    "#cleaned_data=article_data[0].translate(str.maketrans('','',string.punctuation))"
   ]
  },
  {
   "cell_type": "code",
   "execution_count": 99,
   "id": "a62b603b",
   "metadata": {},
   "outputs": [],
   "source": [
    "#tokenized_w=cleaned_data.split()"
   ]
  },
  {
   "cell_type": "code",
   "execution_count": 100,
   "id": "341e7e3d",
   "metadata": {},
   "outputs": [],
   "source": [
    "sentence_length_list=[]\n",
    "import re\n",
    "for sent_data in article_list:\n",
    "    sent=re.split(r'[.!?]+', sent_data)\n",
    "    sent_length=len(sent)\n",
    "    sentence_length_list.append(sent_length)"
   ]
  },
  {
   "cell_type": "code",
   "execution_count": 101,
   "id": "1c7cc38b",
   "metadata": {},
   "outputs": [],
   "source": [
    "avg_sent_list=[]\n",
    "for i in range(len(articles_lower)):\n",
    "    avg_sent_len=int(len(articles_lower[i])/sentence_length_list[i])\n",
    "    avg_sent_list.append(avg_sent_len)\n",
    "    "
   ]
  },
  {
   "cell_type": "code",
   "execution_count": 210,
   "id": "4ae370cf",
   "metadata": {},
   "outputs": [],
   "source": [
    "#avg_sent_list"
   ]
  },
  {
   "cell_type": "code",
   "execution_count": 103,
   "id": "52c5239f",
   "metadata": {},
   "outputs": [],
   "source": [
    "vowels=[\"a\",\"e\",\"i\",\"o\",\"u\"]"
   ]
  },
  {
   "cell_type": "code",
   "execution_count": 104,
   "id": "f7c96ce1",
   "metadata": {},
   "outputs": [],
   "source": [
    "#articles_lower[0]"
   ]
  },
  {
   "cell_type": "code",
   "execution_count": 105,
   "id": "ec1732f8",
   "metadata": {},
   "outputs": [],
   "source": [
    "s=[]\n",
    "for word in articles_lower[0]:\n",
    "    d=[]\n",
    "    for i in range(len(word)):\n",
    "        d.append(word[i])\n",
    "    s.append(d)\n",
    "    \n",
    "        \n",
    "        "
   ]
  },
  {
   "cell_type": "code",
   "execution_count": 106,
   "id": "69649be8",
   "metadata": {},
   "outputs": [],
   "source": [
    "syl1_count=[]\n",
    "for worddd in s:\n",
    "    vowel_count=0\n",
    "    for char in worddd:\n",
    "        if char in vowels:\n",
    "            vowel_count+=1\n",
    "    syl1_count.append(vowel_count)\n"
   ]
  },
  {
   "cell_type": "code",
   "execution_count": 107,
   "id": "2f4810ff",
   "metadata": {},
   "outputs": [],
   "source": [
    "syl2=[]\n",
    "for word3_list in article_syl:\n",
    "    syl1_count=[]\n",
    "    for worddd in word3_list:\n",
    "        \n",
    "        vowel_count=0\n",
    "        for char in worddd:\n",
    "            \n",
    "            if char in vowels:\n",
    "                \n",
    "                vowel_count+=1\n",
    "        syl1_count.append(vowel_count)\n",
    "    syl2.append(syl1_count)\n",
    "    "
   ]
  },
  {
   "cell_type": "code",
   "execution_count": 108,
   "id": "a9dbeddb",
   "metadata": {},
   "outputs": [
    {
     "data": {
      "text/plain": [
       "['I', 'n', 't', 'r', 'o', 'd', 'u', 'c', 't', 'i', 'o', 'n']"
      ]
     },
     "execution_count": 108,
     "metadata": {},
     "output_type": "execute_result"
    }
   ],
   "source": [
    "article_syl[0][0]"
   ]
  },
  {
   "cell_type": "code",
   "execution_count": 109,
   "id": "d382dd68",
   "metadata": {},
   "outputs": [],
   "source": [
    "#syl2[0]"
   ]
  },
  {
   "cell_type": "code",
   "execution_count": 110,
   "id": "29c3af3e",
   "metadata": {},
   "outputs": [],
   "source": [
    "\n",
    "#syl2\n"
   ]
  },
  {
   "cell_type": "code",
   "execution_count": 111,
   "id": "6152adee",
   "metadata": {},
   "outputs": [],
   "source": [
    "sum2=[]\n",
    "for i in syl2:\n",
    "    sum1=0\n",
    "    for j in i:\n",
    "        sum1+=j\n",
    "    sum2.append(sum1)\n",
    "        "
   ]
  },
  {
   "cell_type": "code",
   "execution_count": 112,
   "id": "015fc220",
   "metadata": {},
   "outputs": [],
   "source": [
    "for i in articles_lower:\n",
    "    for j in sum2:\n",
    "        s_per=j/len(i)\n",
    "        \n",
    "        "
   ]
  },
  {
   "cell_type": "code",
   "execution_count": 113,
   "id": "804bfcfe",
   "metadata": {},
   "outputs": [
    {
     "data": {
      "text/plain": [
       "1779"
      ]
     },
     "execution_count": 113,
     "metadata": {},
     "output_type": "execute_result"
    }
   ],
   "source": [
    "len(articles_lower[0])"
   ]
  },
  {
   "cell_type": "code",
   "execution_count": 114,
   "id": "2a8dd0aa",
   "metadata": {},
   "outputs": [],
   "source": [
    "article_syl=[]\n",
    "for article in articles_lower:\n",
    "    po=[]\n",
    "    for word in article:\n",
    "        \n",
    "        do=[]\n",
    "        for i in range(len(word)):\n",
    "            \n",
    "            do.append(word[i])\n",
    "        po.append(do)\n",
    "    article_syl.append(po)\n",
    "      "
   ]
  },
  {
   "cell_type": "code",
   "execution_count": 354,
   "id": "a9dcceaa",
   "metadata": {},
   "outputs": [],
   "source": [
    "#len(syllable_count)"
   ]
  },
  {
   "cell_type": "code",
   "execution_count": null,
   "id": "b8252d5a",
   "metadata": {},
   "outputs": [],
   "source": [
    "#syllable_count"
   ]
  },
  {
   "cell_type": "code",
   "execution_count": 129,
   "id": "5767c4fa",
   "metadata": {},
   "outputs": [],
   "source": [
    "z=[]\n",
    "d=\"dfnjfnj\"\n",
    "for i in range(len(d)):\n",
    "    z.append(d[i])"
   ]
  },
  {
   "cell_type": "code",
   "execution_count": 130,
   "id": "c82f9fd6",
   "metadata": {},
   "outputs": [
    {
     "data": {
      "text/plain": [
       "['d', 'f', 'n', 'j', 'f', 'n', 'j']"
      ]
     },
     "execution_count": 130,
     "metadata": {},
     "output_type": "execute_result"
    }
   ],
   "source": [
    "z"
   ]
  },
  {
   "cell_type": "code",
   "execution_count": 131,
   "id": "57a7a2c2",
   "metadata": {},
   "outputs": [],
   "source": [
    "s=[]"
   ]
  },
  {
   "cell_type": "code",
   "execution_count": 132,
   "id": "9352aef8",
   "metadata": {},
   "outputs": [],
   "source": [
    "s.append(z)"
   ]
  },
  {
   "cell_type": "code",
   "execution_count": 133,
   "id": "e131bbdb",
   "metadata": {},
   "outputs": [
    {
     "data": {
      "text/plain": [
       "[['d', 'f', 'n', 'j', 'f', 'n', 'j']]"
      ]
     },
     "execution_count": 133,
     "metadata": {},
     "output_type": "execute_result"
    }
   ],
   "source": [
    "s"
   ]
  },
  {
   "cell_type": "code",
   "execution_count": 134,
   "id": "2e8edceb",
   "metadata": {},
   "outputs": [],
   "source": [
    "q=[\"a\",\"b\"]"
   ]
  },
  {
   "cell_type": "code",
   "execution_count": 135,
   "id": "bda9c599",
   "metadata": {},
   "outputs": [],
   "source": [
    "s.append(q)"
   ]
  },
  {
   "cell_type": "code",
   "execution_count": 136,
   "id": "15939a4f",
   "metadata": {},
   "outputs": [],
   "source": [
    "#s"
   ]
  },
  {
   "cell_type": "code",
   "execution_count": 220,
   "id": "94046ad8",
   "metadata": {},
   "outputs": [],
   "source": [
    "#for articlee in articles_lower[0]:\n",
    "    #q=[]\n",
    "    #for j in syl2:\n",
    "        "
   ]
  },
  {
   "cell_type": "code",
   "execution_count": 148,
   "id": "bc8534f4",
   "metadata": {},
   "outputs": [],
   "source": [
    "counttt=[]\n",
    "for i in syl2:\n",
    "    p=0\n",
    "    for j in i:\n",
    "        p+=j\n",
    "    counttt.append(p)\n",
    "    "
   ]
  },
  {
   "cell_type": "code",
   "execution_count": 161,
   "id": "58c6b6cc",
   "metadata": {},
   "outputs": [
    {
     "data": {
      "text/plain": [
       "110"
      ]
     },
     "execution_count": 161,
     "metadata": {},
     "output_type": "execute_result"
    }
   ],
   "source": [
    "len(s_per_count)"
   ]
  },
  {
   "cell_type": "code",
   "execution_count": 173,
   "id": "86c0c6c6",
   "metadata": {},
   "outputs": [],
   "source": [
    "s_per=[]\n",
    "for i in range(len(articles_lower)):\n",
    "    er=int(counttt[i]/len(articles_lower[i]))\n",
    "    s_per.append(er)\n",
    "    "
   ]
  },
  {
   "cell_type": "code",
   "execution_count": 175,
   "id": "535d41be",
   "metadata": {},
   "outputs": [],
   "source": [
    "#s_per\n",
    "#syllable per word in every article"
   ]
  },
  {
   "cell_type": "code",
   "execution_count": 219,
   "id": "fac4939d",
   "metadata": {},
   "outputs": [],
   "source": [
    "#syl2[0]"
   ]
  },
  {
   "cell_type": "code",
   "execution_count": 196,
   "id": "5d9eb487",
   "metadata": {},
   "outputs": [],
   "source": [
    "complex_list=[]\n",
    "syl2=[]\n",
    "for word3_list in article_syl:\n",
    "    syl1_count=[]\n",
    "    complex_count=[]\n",
    "    for worddd in word3_list:\n",
    "        \n",
    "        vowel_count=0\n",
    "        for char in worddd:\n",
    "            \n",
    "            if char in vowels:\n",
    "                \n",
    "                vowel_count+=1\n",
    "        if(vowel_count>2):\n",
    "            complex_count.append(worddd)\n",
    "            \n",
    "        syl1_count.append(vowel_count)\n",
    "    syl2.append(syl1_count)\n",
    "    complex_list.append(complex_count)"
   ]
  },
  {
   "cell_type": "code",
   "execution_count": 204,
   "id": "a387a49a",
   "metadata": {},
   "outputs": [
    {
     "data": {
      "text/plain": [
       "620"
      ]
     },
     "execution_count": 204,
     "metadata": {},
     "output_type": "execute_result"
    }
   ],
   "source": [
    "len(complex_list[0])"
   ]
  },
  {
   "cell_type": "code",
   "execution_count": 212,
   "id": "f7070dee",
   "metadata": {},
   "outputs": [],
   "source": [
    "complex_perc=[]\n",
    "fog_index=[]\n",
    "\n",
    "for i in range(len(articles_lower)):\n",
    "    complex_per=len(complex_list[i])/len(articles_lower[i])\n",
    "    foggy=0.4*(complex_per+avg_sent_list[i])\n",
    "    complex_perc.append(complex_per)\n",
    "    fog_index.append(foggy)"
   ]
  },
  {
   "cell_type": "code",
   "execution_count": 218,
   "id": "96e0b38c",
   "metadata": {},
   "outputs": [],
   "source": [
    "#complex_perc\n",
    "#fog_index"
   ]
  },
  {
   "cell_type": "code",
   "execution_count": 231,
   "id": "c8383303",
   "metadata": {},
   "outputs": [],
   "source": [
    "char2=[]\n",
    "for word3_list in article_syl:\n",
    "    char_count=0\n",
    "    for worddd in word3_list:\n",
    "        d=len(worddd)\n",
    "        char_count+=d\n",
    "    char2.append(char_count)"
   ]
  },
  {
   "cell_type": "code",
   "execution_count": 232,
   "id": "dca01518",
   "metadata": {},
   "outputs": [
    {
     "data": {
      "text/plain": [
       "10066"
      ]
     },
     "execution_count": 232,
     "metadata": {},
     "output_type": "execute_result"
    }
   ],
   "source": [
    "char2[0]"
   ]
  },
  {
   "cell_type": "code",
   "execution_count": 236,
   "id": "dbf8e1fa",
   "metadata": {},
   "outputs": [],
   "source": [
    "word_len_list=[]\n",
    "for i in range(len(articles_lower)):\n",
    "    word_len=int(char2[i]/len(articles_lower[i]))\n",
    "    word_len_list.append(word_len)"
   ]
  },
  {
   "cell_type": "code",
   "execution_count": 238,
   "id": "8c8b917c",
   "metadata": {},
   "outputs": [
    {
     "data": {
      "text/plain": [
       "110"
      ]
     },
     "execution_count": 238,
     "metadata": {},
     "output_type": "execute_result"
    }
   ],
   "source": [
    "#word_len_list\n",
    "#length of words in respective article"
   ]
  },
  {
   "cell_type": "code",
   "execution_count": 239,
   "id": "aab83c3f",
   "metadata": {},
   "outputs": [],
   "source": [
    "personal_nouns = []\n",
    "personal_noun =['I', 'we','my', 'ours','and' 'us','My','We','Ours','Us','And'] \n",
    "for article in articles_lower:\n",
    "    ans=0\n",
    "    for word in article:\n",
    "        if word in personal_noun:\n",
    "            ans+=1\n",
    "    personal_nouns.append(ans)"
   ]
  },
  {
   "cell_type": "code",
   "execution_count": 308,
   "id": "04066886",
   "metadata": {},
   "outputs": [
    {
     "data": {
      "text/plain": [
       "114"
      ]
     },
     "execution_count": 308,
     "metadata": {},
     "output_type": "execute_result"
    }
   ],
   "source": [
    "len(personal_nouns)\n",
    "len(word_len_list)\n",
    "len(s_per)\n",
    "len(avg_sent_list)\n",
    "len(complex_perc)\n",
    "len(fog_index)\n",
    "len(positive_list)\n",
    "len(negative_list)\n",
    "len(subjectivity_list)\n",
    "len(polarity_list)\n",
    "len(word_list)\n",
    "#respective_complex\n",
    "#word_per_sent"
   ]
  },
  {
   "cell_type": "code",
   "execution_count": 247,
   "id": "e7366381",
   "metadata": {},
   "outputs": [],
   "source": [
    "word_list=[]\n",
    "for a in articles_lower:\n",
    "    wor=len(a)\n",
    "    word_list.append(wor)"
   ]
  },
  {
   "cell_type": "code",
   "execution_count": 299,
   "id": "6e7b33cd",
   "metadata": {},
   "outputs": [],
   "source": [
    "respective_complex=[]\n",
    "for i in range(len(articles_lower)):\n",
    "    respective_complex.append(len(complex_list[i]))\n",
    "    "
   ]
  },
  {
   "cell_type": "code",
   "execution_count": 302,
   "id": "2b9d0a0b",
   "metadata": {},
   "outputs": [],
   "source": [
    "respective_complex.insert(6,0)\n",
    "respective_complex.insert(7,0)\n",
    "respective_complex.insert(19,0)\n",
    "respective_complex.insert(106,0)"
   ]
  },
  {
   "cell_type": "code",
   "execution_count": 306,
   "id": "6957cc0a",
   "metadata": {},
   "outputs": [],
   "source": [
    "word_per_sent=[]\n",
    "for i in avg_sent_list:\n",
    "    word_per_sent.append(i)\n",
    "    "
   ]
  },
  {
   "cell_type": "code",
   "execution_count": 309,
   "id": "3de810e8",
   "metadata": {},
   "outputs": [],
   "source": [
    "#df = pd.DataFrame(list(zip(lst, lst2)),\n",
    "               #columns =['Name', 'val'])\n",
    "    "
   ]
  },
  {
   "cell_type": "code",
   "execution_count": 310,
   "id": "218547d2",
   "metadata": {},
   "outputs": [],
   "source": [
    "from io import BytesIO\n",
    "\n",
    "import requests\n",
    "import pandas as pd\n",
    "\n",
    "r = requests.get('https://docs.google.com/spreadsheets/d/1D7QkDHxUSKnQhR--q0BAwKMxQlUyoJTQ/export?format=csv&gid=NUMBER:')\n",
    "data = r.content\n",
    "    "
   ]
  },
  {
   "cell_type": "code",
   "execution_count": 311,
   "id": "d28dbbbc",
   "metadata": {},
   "outputs": [],
   "source": [
    "csv_url=\"https://docs.google.com/spreadsheets/d/1D7QkDHxUSKnQhR--q0BAwKMxQlUyoJTQ/export?format=csv&gid=NUMBER\""
   ]
  },
  {
   "cell_type": "code",
   "execution_count": 312,
   "id": "b741335e",
   "metadata": {},
   "outputs": [],
   "source": [
    "import pandas as pd\n",
    "sheet=\"1D7QkDHxUSKnQhR--q0BAwKMxQlUyoJTQ\"\n",
    "sheet_name=\"Input\""
   ]
  },
  {
   "cell_type": "code",
   "execution_count": 313,
   "id": "575bb767",
   "metadata": {},
   "outputs": [],
   "source": [
    "\n",
    "\n",
    "gsheet_url = f\"https://docs.google.com/spreadsheets/d/{sheet}/gviz/tq?tqx=out:csv&sheet={sheet_name}\""
   ]
  },
  {
   "cell_type": "code",
   "execution_count": 314,
   "id": "c5bf75e4",
   "metadata": {},
   "outputs": [],
   "source": [
    "df=pd.read_csv(gsheet_url)"
   ]
  },
  {
   "cell_type": "code",
   "execution_count": 315,
   "id": "60ed0356",
   "metadata": {},
   "outputs": [
    {
     "data": {
      "text/html": [
       "<div>\n",
       "<style scoped>\n",
       "    .dataframe tbody tr th:only-of-type {\n",
       "        vertical-align: middle;\n",
       "    }\n",
       "\n",
       "    .dataframe tbody tr th {\n",
       "        vertical-align: top;\n",
       "    }\n",
       "\n",
       "    .dataframe thead th {\n",
       "        text-align: right;\n",
       "    }\n",
       "</style>\n",
       "<table border=\"1\" class=\"dataframe\">\n",
       "  <thead>\n",
       "    <tr style=\"text-align: right;\">\n",
       "      <th></th>\n",
       "      <th>URL_ID</th>\n",
       "      <th>URL</th>\n",
       "    </tr>\n",
       "  </thead>\n",
       "  <tbody>\n",
       "    <tr>\n",
       "      <th>0</th>\n",
       "      <td>37</td>\n",
       "      <td>https://insights.blackcoffer.com/ai-in-healthc...</td>\n",
       "    </tr>\n",
       "    <tr>\n",
       "      <th>1</th>\n",
       "      <td>38</td>\n",
       "      <td>https://insights.blackcoffer.com/what-if-the-c...</td>\n",
       "    </tr>\n",
       "    <tr>\n",
       "      <th>2</th>\n",
       "      <td>39</td>\n",
       "      <td>https://insights.blackcoffer.com/what-jobs-wil...</td>\n",
       "    </tr>\n",
       "    <tr>\n",
       "      <th>3</th>\n",
       "      <td>40</td>\n",
       "      <td>https://insights.blackcoffer.com/will-machine-...</td>\n",
       "    </tr>\n",
       "    <tr>\n",
       "      <th>4</th>\n",
       "      <td>41</td>\n",
       "      <td>https://insights.blackcoffer.com/will-ai-repla...</td>\n",
       "    </tr>\n",
       "    <tr>\n",
       "      <th>...</th>\n",
       "      <td>...</td>\n",
       "      <td>...</td>\n",
       "    </tr>\n",
       "    <tr>\n",
       "      <th>109</th>\n",
       "      <td>146</td>\n",
       "      <td>https://insights.blackcoffer.com/blockchain-fo...</td>\n",
       "    </tr>\n",
       "    <tr>\n",
       "      <th>110</th>\n",
       "      <td>147</td>\n",
       "      <td>https://insights.blackcoffer.com/the-future-of...</td>\n",
       "    </tr>\n",
       "    <tr>\n",
       "      <th>111</th>\n",
       "      <td>148</td>\n",
       "      <td>https://insights.blackcoffer.com/big-data-anal...</td>\n",
       "    </tr>\n",
       "    <tr>\n",
       "      <th>112</th>\n",
       "      <td>149</td>\n",
       "      <td>https://insights.blackcoffer.com/business-anal...</td>\n",
       "    </tr>\n",
       "    <tr>\n",
       "      <th>113</th>\n",
       "      <td>150</td>\n",
       "      <td>https://insights.blackcoffer.com/challenges-an...</td>\n",
       "    </tr>\n",
       "  </tbody>\n",
       "</table>\n",
       "<p>114 rows × 2 columns</p>\n",
       "</div>"
      ],
      "text/plain": [
       "     URL_ID                                                URL\n",
       "0        37  https://insights.blackcoffer.com/ai-in-healthc...\n",
       "1        38  https://insights.blackcoffer.com/what-if-the-c...\n",
       "2        39  https://insights.blackcoffer.com/what-jobs-wil...\n",
       "3        40  https://insights.blackcoffer.com/will-machine-...\n",
       "4        41  https://insights.blackcoffer.com/will-ai-repla...\n",
       "..      ...                                                ...\n",
       "109     146  https://insights.blackcoffer.com/blockchain-fo...\n",
       "110     147  https://insights.blackcoffer.com/the-future-of...\n",
       "111     148  https://insights.blackcoffer.com/big-data-anal...\n",
       "112     149  https://insights.blackcoffer.com/business-anal...\n",
       "113     150  https://insights.blackcoffer.com/challenges-an...\n",
       "\n",
       "[114 rows x 2 columns]"
      ]
     },
     "execution_count": 315,
     "metadata": {},
     "output_type": "execute_result"
    }
   ],
   "source": [
    "df"
   ]
  },
  {
   "cell_type": "code",
   "execution_count": 316,
   "id": "d2f76c8e",
   "metadata": {},
   "outputs": [
    {
     "data": {
      "text/plain": [
       "114"
      ]
     },
     "execution_count": 316,
     "metadata": {},
     "output_type": "execute_result"
    }
   ],
   "source": [
    "#df = pd.DataFrame(list(zip(lst, lst2)),\n",
    "               #columns =['Name', 'val'])\n",
    "len(personal_nouns)\n",
    "len(word_len_list)\n",
    "len(s_per)\n",
    "len(avg_sent_list)\n",
    "len(complex_perc)\n",
    "len(fog_index)\n",
    "len(positive_list)\n",
    "len(negative_list)\n",
    "len(subjectivity_list)\n",
    "len(polarity_list)\n",
    "len(word_list)\n",
    "#respective_complex\n",
    "#word_per_sent"
   ]
  },
  {
   "cell_type": "code",
   "execution_count": 325,
   "id": "e5334547",
   "metadata": {},
   "outputs": [],
   "source": [
    "df['POSITIVE SCORE']=positive_list"
   ]
  },
  {
   "cell_type": "code",
   "execution_count": 332,
   "id": "7b6a1a8f",
   "metadata": {},
   "outputs": [],
   "source": [
    "df['NEGATIVE SCORE']=negative_list"
   ]
  },
  {
   "cell_type": "code",
   "execution_count": 334,
   "id": "f6349769",
   "metadata": {},
   "outputs": [],
   "source": [
    "df['POLARITY SCORE']=polarity_list"
   ]
  },
  {
   "cell_type": "code",
   "execution_count": 335,
   "id": "7c60045a",
   "metadata": {},
   "outputs": [],
   "source": [
    "df['SUBJECTIVITY SCORE']=subjectivity_list"
   ]
  },
  {
   "cell_type": "code",
   "execution_count": 336,
   "id": "351ba5ee",
   "metadata": {},
   "outputs": [],
   "source": [
    "df[\"AVG SENTENCE LENGTH\"]=avg_sent_list"
   ]
  },
  {
   "cell_type": "code",
   "execution_count": 338,
   "id": "9944d9ce",
   "metadata": {},
   "outputs": [],
   "source": [
    "df['PERCENTAGE OF COMPLEX WORDS']=complex_perc"
   ]
  },
  {
   "cell_type": "code",
   "execution_count": 339,
   "id": "e405f732",
   "metadata": {},
   "outputs": [],
   "source": [
    "df['FOG INDEX']=fog_index"
   ]
  },
  {
   "cell_type": "code",
   "execution_count": 341,
   "id": "d053eb92",
   "metadata": {},
   "outputs": [],
   "source": [
    "df[\"AVG NUMBER OF WORDS PER SENTENCE\"]=word_per_sent"
   ]
  },
  {
   "cell_type": "code",
   "execution_count": 342,
   "id": "ea4cfb75",
   "metadata": {},
   "outputs": [],
   "source": [
    "df[\"COMPLEX WORD COUNT\"]=respective_complex"
   ]
  },
  {
   "cell_type": "code",
   "execution_count": 343,
   "id": "137075b8",
   "metadata": {},
   "outputs": [],
   "source": [
    "df['WORD COUNT']=word_list"
   ]
  },
  {
   "cell_type": "code",
   "execution_count": 344,
   "id": "99d2c3e5",
   "metadata": {},
   "outputs": [],
   "source": [
    "df['SYLLABLE PER WORD']=s_per"
   ]
  },
  {
   "cell_type": "code",
   "execution_count": 345,
   "id": "8c216acd",
   "metadata": {},
   "outputs": [],
   "source": [
    "df['PERSONAL PRONOUNS']=personal_nouns"
   ]
  },
  {
   "cell_type": "code",
   "execution_count": 346,
   "id": "ff132274",
   "metadata": {},
   "outputs": [],
   "source": [
    "df[\"AVG WORD LENGTH\"]=word_len_list"
   ]
  },
  {
   "cell_type": "code",
   "execution_count": 351,
   "id": "06ddc308",
   "metadata": {},
   "outputs": [
    {
     "data": {
      "text/html": [
       "<div>\n",
       "<style scoped>\n",
       "    .dataframe tbody tr th:only-of-type {\n",
       "        vertical-align: middle;\n",
       "    }\n",
       "\n",
       "    .dataframe tbody tr th {\n",
       "        vertical-align: top;\n",
       "    }\n",
       "\n",
       "    .dataframe thead th {\n",
       "        text-align: right;\n",
       "    }\n",
       "</style>\n",
       "<table border=\"1\" class=\"dataframe\">\n",
       "  <thead>\n",
       "    <tr style=\"text-align: right;\">\n",
       "      <th></th>\n",
       "      <th>URL_ID</th>\n",
       "      <th>URL</th>\n",
       "      <th>POSITIVE SCORE</th>\n",
       "      <th>NEGATIVE SCORE</th>\n",
       "      <th>POLARITY SCORE</th>\n",
       "      <th>SUBJECTIVITY SCORE</th>\n",
       "      <th>AVG SENTENCE LENGTH</th>\n",
       "      <th>PERCENTAGE OF COMPLEX WORDS</th>\n",
       "      <th>FOG INDEX</th>\n",
       "      <th>AVG NUMBER OF WORDS PER SENTENCE</th>\n",
       "      <th>COMPLEX WORD COUNT</th>\n",
       "      <th>WORD COUNT</th>\n",
       "      <th>SYLLABLE PER WORD</th>\n",
       "      <th>PERSONAL PRONOUNS</th>\n",
       "      <th>AVG WORD LENGTH</th>\n",
       "    </tr>\n",
       "  </thead>\n",
       "  <tbody>\n",
       "    <tr>\n",
       "      <th>0</th>\n",
       "      <td>37</td>\n",
       "      <td>https://insights.blackcoffer.com/ai-in-healthc...</td>\n",
       "      <td>61</td>\n",
       "      <td>33</td>\n",
       "      <td>0.30</td>\n",
       "      <td>0.05</td>\n",
       "      <td>18</td>\n",
       "      <td>0.348510</td>\n",
       "      <td>7.339404</td>\n",
       "      <td>18</td>\n",
       "      <td>620</td>\n",
       "      <td>1779</td>\n",
       "      <td>2</td>\n",
       "      <td>0</td>\n",
       "      <td>5</td>\n",
       "    </tr>\n",
       "    <tr>\n",
       "      <th>1</th>\n",
       "      <td>38</td>\n",
       "      <td>https://insights.blackcoffer.com/what-if-the-c...</td>\n",
       "      <td>56</td>\n",
       "      <td>37</td>\n",
       "      <td>0.20</td>\n",
       "      <td>0.07</td>\n",
       "      <td>13</td>\n",
       "      <td>0.235883</td>\n",
       "      <td>5.294353</td>\n",
       "      <td>13</td>\n",
       "      <td>330</td>\n",
       "      <td>1399</td>\n",
       "      <td>1</td>\n",
       "      <td>3</td>\n",
       "      <td>4</td>\n",
       "    </tr>\n",
       "    <tr>\n",
       "      <th>2</th>\n",
       "      <td>39</td>\n",
       "      <td>https://insights.blackcoffer.com/what-jobs-wil...</td>\n",
       "      <td>66</td>\n",
       "      <td>33</td>\n",
       "      <td>0.33</td>\n",
       "      <td>0.06</td>\n",
       "      <td>17</td>\n",
       "      <td>0.330765</td>\n",
       "      <td>6.932306</td>\n",
       "      <td>17</td>\n",
       "      <td>558</td>\n",
       "      <td>1687</td>\n",
       "      <td>2</td>\n",
       "      <td>0</td>\n",
       "      <td>5</td>\n",
       "    </tr>\n",
       "    <tr>\n",
       "      <th>3</th>\n",
       "      <td>40</td>\n",
       "      <td>https://insights.blackcoffer.com/will-machine-...</td>\n",
       "      <td>57</td>\n",
       "      <td>25</td>\n",
       "      <td>0.39</td>\n",
       "      <td>0.05</td>\n",
       "      <td>15</td>\n",
       "      <td>0.228081</td>\n",
       "      <td>6.091232</td>\n",
       "      <td>15</td>\n",
       "      <td>372</td>\n",
       "      <td>1631</td>\n",
       "      <td>1</td>\n",
       "      <td>15</td>\n",
       "      <td>4</td>\n",
       "    </tr>\n",
       "    <tr>\n",
       "      <th>4</th>\n",
       "      <td>41</td>\n",
       "      <td>https://insights.blackcoffer.com/will-ai-repla...</td>\n",
       "      <td>50</td>\n",
       "      <td>25</td>\n",
       "      <td>0.33</td>\n",
       "      <td>0.04</td>\n",
       "      <td>14</td>\n",
       "      <td>0.251160</td>\n",
       "      <td>5.700464</td>\n",
       "      <td>14</td>\n",
       "      <td>433</td>\n",
       "      <td>1724</td>\n",
       "      <td>1</td>\n",
       "      <td>8</td>\n",
       "      <td>5</td>\n",
       "    </tr>\n",
       "    <tr>\n",
       "      <th>...</th>\n",
       "      <td>...</td>\n",
       "      <td>...</td>\n",
       "      <td>...</td>\n",
       "      <td>...</td>\n",
       "      <td>...</td>\n",
       "      <td>...</td>\n",
       "      <td>...</td>\n",
       "      <td>...</td>\n",
       "      <td>...</td>\n",
       "      <td>...</td>\n",
       "      <td>...</td>\n",
       "      <td>...</td>\n",
       "      <td>...</td>\n",
       "      <td>...</td>\n",
       "      <td>...</td>\n",
       "    </tr>\n",
       "    <tr>\n",
       "      <th>109</th>\n",
       "      <td>146</td>\n",
       "      <td>https://insights.blackcoffer.com/blockchain-fo...</td>\n",
       "      <td>21</td>\n",
       "      <td>26</td>\n",
       "      <td>-0.11</td>\n",
       "      <td>0.05</td>\n",
       "      <td>14</td>\n",
       "      <td>0.282222</td>\n",
       "      <td>5.712889</td>\n",
       "      <td>14</td>\n",
       "      <td>254</td>\n",
       "      <td>900</td>\n",
       "      <td>1</td>\n",
       "      <td>9</td>\n",
       "      <td>5</td>\n",
       "    </tr>\n",
       "    <tr>\n",
       "      <th>110</th>\n",
       "      <td>147</td>\n",
       "      <td>https://insights.blackcoffer.com/the-future-of...</td>\n",
       "      <td>39</td>\n",
       "      <td>12</td>\n",
       "      <td>0.53</td>\n",
       "      <td>0.03</td>\n",
       "      <td>14</td>\n",
       "      <td>0.280026</td>\n",
       "      <td>5.712010</td>\n",
       "      <td>14</td>\n",
       "      <td>429</td>\n",
       "      <td>1532</td>\n",
       "      <td>1</td>\n",
       "      <td>2</td>\n",
       "      <td>5</td>\n",
       "    </tr>\n",
       "    <tr>\n",
       "      <th>111</th>\n",
       "      <td>148</td>\n",
       "      <td>https://insights.blackcoffer.com/big-data-anal...</td>\n",
       "      <td>26</td>\n",
       "      <td>43</td>\n",
       "      <td>-0.25</td>\n",
       "      <td>0.06</td>\n",
       "      <td>13</td>\n",
       "      <td>0.309441</td>\n",
       "      <td>5.323776</td>\n",
       "      <td>13</td>\n",
       "      <td>354</td>\n",
       "      <td>1144</td>\n",
       "      <td>1</td>\n",
       "      <td>2</td>\n",
       "      <td>5</td>\n",
       "    </tr>\n",
       "    <tr>\n",
       "      <th>112</th>\n",
       "      <td>149</td>\n",
       "      <td>https://insights.blackcoffer.com/business-anal...</td>\n",
       "      <td>30</td>\n",
       "      <td>4</td>\n",
       "      <td>0.76</td>\n",
       "      <td>0.05</td>\n",
       "      <td>18</td>\n",
       "      <td>0.342817</td>\n",
       "      <td>7.337127</td>\n",
       "      <td>18</td>\n",
       "      <td>241</td>\n",
       "      <td>703</td>\n",
       "      <td>2</td>\n",
       "      <td>1</td>\n",
       "      <td>5</td>\n",
       "    </tr>\n",
       "    <tr>\n",
       "      <th>113</th>\n",
       "      <td>150</td>\n",
       "      <td>https://insights.blackcoffer.com/challenges-an...</td>\n",
       "      <td>32</td>\n",
       "      <td>38</td>\n",
       "      <td>-0.09</td>\n",
       "      <td>0.07</td>\n",
       "      <td>15</td>\n",
       "      <td>0.261375</td>\n",
       "      <td>6.104550</td>\n",
       "      <td>15</td>\n",
       "      <td>270</td>\n",
       "      <td>1033</td>\n",
       "      <td>1</td>\n",
       "      <td>8</td>\n",
       "      <td>5</td>\n",
       "    </tr>\n",
       "  </tbody>\n",
       "</table>\n",
       "<p>114 rows × 15 columns</p>\n",
       "</div>"
      ],
      "text/plain": [
       "     URL_ID                                                URL  \\\n",
       "0        37  https://insights.blackcoffer.com/ai-in-healthc...   \n",
       "1        38  https://insights.blackcoffer.com/what-if-the-c...   \n",
       "2        39  https://insights.blackcoffer.com/what-jobs-wil...   \n",
       "3        40  https://insights.blackcoffer.com/will-machine-...   \n",
       "4        41  https://insights.blackcoffer.com/will-ai-repla...   \n",
       "..      ...                                                ...   \n",
       "109     146  https://insights.blackcoffer.com/blockchain-fo...   \n",
       "110     147  https://insights.blackcoffer.com/the-future-of...   \n",
       "111     148  https://insights.blackcoffer.com/big-data-anal...   \n",
       "112     149  https://insights.blackcoffer.com/business-anal...   \n",
       "113     150  https://insights.blackcoffer.com/challenges-an...   \n",
       "\n",
       "     POSITIVE SCORE  NEGATIVE SCORE  POLARITY SCORE  SUBJECTIVITY SCORE  \\\n",
       "0                61              33            0.30                0.05   \n",
       "1                56              37            0.20                0.07   \n",
       "2                66              33            0.33                0.06   \n",
       "3                57              25            0.39                0.05   \n",
       "4                50              25            0.33                0.04   \n",
       "..              ...             ...             ...                 ...   \n",
       "109              21              26           -0.11                0.05   \n",
       "110              39              12            0.53                0.03   \n",
       "111              26              43           -0.25                0.06   \n",
       "112              30               4            0.76                0.05   \n",
       "113              32              38           -0.09                0.07   \n",
       "\n",
       "     AVG SENTENCE LENGTH  PERCENTAGE OF COMPLEX WORDS  FOG INDEX  \\\n",
       "0                     18                     0.348510   7.339404   \n",
       "1                     13                     0.235883   5.294353   \n",
       "2                     17                     0.330765   6.932306   \n",
       "3                     15                     0.228081   6.091232   \n",
       "4                     14                     0.251160   5.700464   \n",
       "..                   ...                          ...        ...   \n",
       "109                   14                     0.282222   5.712889   \n",
       "110                   14                     0.280026   5.712010   \n",
       "111                   13                     0.309441   5.323776   \n",
       "112                   18                     0.342817   7.337127   \n",
       "113                   15                     0.261375   6.104550   \n",
       "\n",
       "     AVG NUMBER OF WORDS PER SENTENCE  COMPLEX WORD COUNT  WORD COUNT  \\\n",
       "0                                  18                 620        1779   \n",
       "1                                  13                 330        1399   \n",
       "2                                  17                 558        1687   \n",
       "3                                  15                 372        1631   \n",
       "4                                  14                 433        1724   \n",
       "..                                ...                 ...         ...   \n",
       "109                                14                 254         900   \n",
       "110                                14                 429        1532   \n",
       "111                                13                 354        1144   \n",
       "112                                18                 241         703   \n",
       "113                                15                 270        1033   \n",
       "\n",
       "     SYLLABLE PER WORD  PERSONAL PRONOUNS  AVG WORD LENGTH  \n",
       "0                    2                  0                5  \n",
       "1                    1                  3                4  \n",
       "2                    2                  0                5  \n",
       "3                    1                 15                4  \n",
       "4                    1                  8                5  \n",
       "..                 ...                ...              ...  \n",
       "109                  1                  9                5  \n",
       "110                  1                  2                5  \n",
       "111                  1                  2                5  \n",
       "112                  2                  1                5  \n",
       "113                  1                  8                5  \n",
       "\n",
       "[114 rows x 15 columns]"
      ]
     },
     "execution_count": 351,
     "metadata": {},
     "output_type": "execute_result"
    }
   ],
   "source": [
    "df"
   ]
  },
  {
   "cell_type": "code",
   "execution_count": 352,
   "id": "62834f87",
   "metadata": {},
   "outputs": [],
   "source": [
    "df.to_excel(\"output.xlsx\",\n",
    "             sheet_name='Sheet_name_1')  "
   ]
  },
  {
   "cell_type": "code",
   "execution_count": null,
   "id": "300c65f7",
   "metadata": {},
   "outputs": [],
   "source": []
  }
 ],
 "metadata": {
  "kernelspec": {
   "display_name": "Python 3 (ipykernel)",
   "language": "python",
   "name": "python3"
  },
  "language_info": {
   "codemirror_mode": {
    "name": "ipython",
    "version": 3
   },
   "file_extension": ".py",
   "mimetype": "text/x-python",
   "name": "python",
   "nbconvert_exporter": "python",
   "pygments_lexer": "ipython3",
   "version": "3.9.7"
  }
 },
 "nbformat": 4,
 "nbformat_minor": 5
}
